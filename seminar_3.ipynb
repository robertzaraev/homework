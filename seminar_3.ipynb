{
 "cells": [
  {
   "cell_type": "markdown",
   "metadata": {},
   "source": [
    "# Задания по семинару 3\n",
    "# Логические переменные, операции сравнения, тернарный оператор"
   ]
  },
  {
   "cell_type": "markdown",
   "metadata": {},
   "source": [
    "1) Добиться вывода на экран сообщения ``\"Правильный ответ!\"``"
   ]
  },
  {
   "cell_type": "code",
   "execution_count": 10,
   "metadata": {
    "collapsed": false
   },
   "outputs": [
    {
     "name": "stdout",
     "output_type": "stream",
     "text": [
      "Введите первую строку: kska\n",
      "Введите целое число: 2\n",
      "Введите вторую строку: \n"
     ]
    }
   ],
   "source": [
    "s1 = input('Введите первую строку: ')\n",
    "a = int(input('Введите целое число: '))\n",
    "s2 = input('Введите вторую строку: ')"
   ]
  },
  {
   "cell_type": "code",
   "execution_count": 11,
   "metadata": {
    "collapsed": false,
    "scrolled": true
   },
   "outputs": [
    {
     "name": "stdout",
     "output_type": "stream",
     "text": [
      "Правильный ответ!\n"
     ]
    }
   ],
   "source": [
    "if s1 and not a - 7 // 3 and not s2:\n",
    "    print('Правильный ответ!')\n",
    "else:\n",
    "    print('Ответ неправильный, попробуйте еще раз.')"
   ]
  },
  {
   "cell_type": "markdown",
   "metadata": {},
   "source": [
    "2) Проверить, является ли введенное пользователем число **четным**."
   ]
  },
  {
   "cell_type": "code",
   "execution_count": 2,
   "metadata": {
    "collapsed": false
   },
   "outputs": [
    {
     "name": "stdout",
     "output_type": "stream",
     "text": [
      "Введите целое число: 4\n",
      "четное\n"
     ]
    }
   ],
   "source": [
    "a = int(input('Введите целое число: '))\n",
    "if a%2==0:\n",
    "    print ('четное')\n",
    "else:\n",
    "    print('нечетное')"
   ]
  },
  {
   "cell_type": "markdown",
   "metadata": {},
   "source": [
    "3) Проверить, является ли введенная пользователем строка **палиндромом**."
   ]
  },
  {
   "cell_type": "code",
   "execution_count": 8,
   "metadata": {
    "collapsed": false
   },
   "outputs": [
    {
     "name": "stdout",
     "output_type": "stream",
     "text": [
      "введите строкуasdsa\n",
      "палиндром\n"
     ]
    }
   ],
   "source": [
    "a=input('введите строку')\n",
    "if a==a[::-1]:\n",
    "    print('палиндром')\n",
    "else:\n",
    "    print('не палиндром')"
   ]
  },
  {
   "cell_type": "markdown",
   "metadata": {},
   "source": [
    "4) Проверить, какая версия Python сейчас выполняется.\n",
    "\n",
    "В случае, если выполняется **32-битная** версия, вывести предупреждение: ``\"Необходимо установить Python 64-bit!\"``, иначе ничего не предпринимать."
   ]
  },
  {
   "cell_type": "code",
   "execution_count": 23,
   "metadata": {
    "collapsed": false
   },
   "outputs": [
    {
     "data": {
      "text/plain": [
       "'3.5.1 |Anaconda 4.0.0 (64-bit)| (default, Feb 16 2016, 09:49:46) [MSC v.1900 64 bit (AMD64)]'"
      ]
     },
     "execution_count": 23,
     "metadata": {},
     "output_type": "execute_result"
    }
   ],
   "source": [
    "import sys\n",
    "if sys.version =='3.5.1 |Anaconda 4.0.0 (32-bit)| (default, Feb 16 2016, 09:49:46) [MSC v.1900 64 bit (AMD64)]':\n",
    "    print('Необходимо установить Python 64-bit!')\n",
    "sys.version"
   ]
  },
  {
   "cell_type": "markdown",
   "metadata": {},
   "source": [
    "5) Запросить пользователя ввести год.\n",
    "\n",
    "Проверить, является ли введенный год високосным.\n",
    "\n",
    "Справка:\n",
    "\n",
    "* год, номер которого кратен 400, — високосный;\n",
    "* остальные годы, номер которых кратен 100, — невисокосные;\n",
    "* остальные годы, номер которых кратен 4, — високосные.\n",
    "\n",
    "-- Википедия\n",
    "\n",
    "http://www.adm.yar.ru/arch_serv/2000/Microsoft/content/vis.htm"
   ]
  },
  {
   "cell_type": "code",
   "execution_count": 11,
   "metadata": {
    "collapsed": false
   },
   "outputs": [
    {
     "name": "stdout",
     "output_type": "stream",
     "text": [
      "200\n",
      "ususal year\n"
     ]
    }
   ],
   "source": [
    "year=int(input())\n",
    "if year%4 !=0:\n",
    "    print ('usual year')\n",
    "elif year%100==0:\n",
    "    if year%400==0:\n",
    "        print('intercalary year')\n",
    "    else:\n",
    "        print ('ususal year')\n",
    "else:\n",
    "        print('intercalary year')"
   ]
  },
  {
   "cell_type": "markdown",
   "metadata": {},
   "source": [
    "6) Проверить выполнение следующих логических тождеств (законов де Моргана) для всех значений ``А`` и ``В`` (*FF, FT, TF, TT*)."
   ]
  },
  {
   "cell_type": "markdown",
   "metadata": {},
   "source": [
    "$$\\overline{A \\lor B} = \\overline{A}\\land\\overline{B}$$\n",
    "\n",
    "$$\\overline{A \\land B} = \\overline{A}\\lor\\overline{B}$$"
   ]
  },
  {
   "cell_type": "code",
   "execution_count": 39,
   "metadata": {
    "collapsed": true
   },
   "outputs": [],
   "source": [
    "# по очереди перебрать все возможные комбинации\n",
    "A = False\n",
    "B = True"
   ]
  },
  {
   "cell_type": "code",
   "execution_count": 47,
   "metadata": {
    "collapsed": false
   },
   "outputs": [
    {
     "name": "stdout",
     "output_type": "stream",
     "text": [
      "  A  |  B  | ¬(A v B) | ¬A ^ ¬B | ¬(A ^ B) | ¬A v ¬B\n",
      "  0  |  1  |    0     |    0    |    1     |    1    \n"
     ]
    }
   ],
   "source": [
    "# необходимо вписать недостающие аргументы функции format\n",
    "\n",
    "print(\"\"\"  A  |  B  | \\U000000AC(A v B) | \\U000000ACA ^ \\U000000ACB | \\U000000AC(A ^ B) | \\U000000ACA v \\U000000ACB\n",
    "{0:^5}|{1:^5}|{2:^10}|{3:^9}|{4:^10}|{5:^9}\"\"\".format(0,1,0,0,1,1))"
   ]
  },
  {
   "cell_type": "code",
   "execution_count": 48,
   "metadata": {
    "collapsed": false
   },
   "outputs": [
    {
     "name": "stdout",
     "output_type": "stream",
     "text": [
      "  A  |  B  | ¬(A v B) | ¬A ^ ¬B | ¬(A ^ B) | ¬A v ¬B\n",
      "  1  |  0  |    0     |    0    |    1     |    1    \n"
     ]
    }
   ],
   "source": [
    "A=True\n",
    "B=False\n",
    "print(\"\"\"  A  |  B  | \\U000000AC(A v B) | \\U000000ACA ^ \\U000000ACB | \\U000000AC(A ^ B) | \\U000000ACA v \\U000000ACB\n",
    "{0:^5}|{1:^5}|{2:^10}|{3:^9}|{4:^10}|{5:^9}\"\"\".format(1,0,0,0,1,1))"
   ]
  },
  {
   "cell_type": "markdown",
   "metadata": {},
   "source": [
    "7) Записать систему неравенств в **ОДНУ** строку **БЕЗ** использования ``and, or, True, False`` (разрешаются только операции сравнения)"
   ]
  },
  {
   "cell_type": "markdown",
   "metadata": {},
   "source": [
    "\\begin{cases} x^2 > 6 - x \\\\ x > 0 \\end{cases}"
   ]
  },
  {
   "cell_type": "markdown",
   "metadata": {},
   "source": [
    "Проверить на ``x = -7`` (False), -5 (False), 3 (True), 2 (False), 1 (False), 0 (False)."
   ]
  },
  {
   "cell_type": "code",
   "execution_count": 49,
   "metadata": {
    "collapsed": false
   },
   "outputs": [
    {
     "name": "stdout",
     "output_type": "stream",
     "text": [
      "x = 3: True\n"
     ]
    }
   ],
   "source": [
    "x = 3\n",
    "res = x*x>6-x<6\n",
    "print('x = {}: {}'.format(x, res))"
   ]
  },
  {
   "cell_type": "markdown",
   "metadata": {},
   "source": [
    "8) Переписать все следующие условия в **ОДНУ** строку (разрешаются только операции сравнения)."
   ]
  },
  {
   "cell_type": "markdown",
   "metadata": {},
   "source": [
    "\\begin{cases} 0 \\leq a \\leq c \\\\ 0 \\leq b < c \\\\ b = 2 \\\\ 0 \\leq c < 5 \\end{cases}"
   ]
  },
  {
   "cell_type": "markdown",
   "metadata": {},
   "source": [
    "Проверить на следующих значения a, b, c:"
   ]
  },
  {
   "cell_type": "code",
   "execution_count": 50,
   "metadata": {
    "collapsed": false
   },
   "outputs": [
    {
     "name": "stdout",
     "output_type": "stream",
     "text": [
      "True\n"
     ]
    }
   ],
   "source": [
    "a = 1\n",
    "b = 2\n",
    "c = 3\n",
    "a = 1\n",
    "b = 2\n",
    "c = 3\n",
    "res=0<=a<=c and 0<=b<=c and b==2 and 0<=c<5\n",
    "print(res)\n"
   ]
  },
  {
   "cell_type": "markdown",
   "metadata": {},
   "source": [
    "9) Записать перечисленные строки в порядке возрастания.\n",
    "\n",
    "Для проверки воспользуйтесь цепочкой из последовательных сравнений ``s1 < s2 < s3 < ...``, которая должна возвращать True:"
   ]
  },
  {
   "cell_type": "code",
   "execution_count": null,
   "metadata": {
    "collapsed": true
   },
   "outputs": [],
   "source": []
  },
  {
   "cell_type": "raw",
   "metadata": {},
   "source": [
    "s1 = 'string'\n",
    "s2 = 'String'\n",
    "s3 = 'strinG'\n",
    "s4 = 'stringlong'\n",
    "s5 = ' string'\n",
    "s6 = 'string '\n",
    "s7 = '_string'"
   ]
  },
  {
   "cell_type": "markdown",
   "metadata": {},
   "source": [
    "10) Если в произвольной входной строке (запросить ввод пользователя) встречается ``\"!!!\"``, выводить на печать ``\"exclaim\"``.\n",
    "\n",
    "При этом если строка **начинается** с ``\"!!!\"``, вместо этого выводить ``\"Nota bene: \"`` и исходную строку без восклицательных знаков.\n",
    "\n",
    "Если встречается ``\"???\"``, то выводить ``\"question\"``.\n",
    "\n",
    "Если встречаются **обе** последовательности (``\"!!!\"`` и ``\"???\"``), то ничего не выводить.\n",
    "\n",
    "В других случаях выводить ``\"random\"``."
   ]
  },
  {
   "cell_type": "code",
   "execution_count": 53,
   "metadata": {
    "collapsed": false
   },
   "outputs": [
    {
     "name": "stdout",
     "output_type": "stream",
     "text": [
      "!!!влыл\n",
      "Nota bene:влыл\n"
     ]
    }
   ],
   "source": [
    "a=input()\n",
    "if (\"!!!\" in a) and (\"???\"in a):\n",
    "    print()\n",
    "elif a.startswith(\"!!!\"):\n",
    "    print(a.replace(\"!!!\",\"Nota bene:\"))\n",
    "elif \"!!!\" in a:\n",
    "    print('exclaim')\n",
    "elif \"???\" in a:\n",
    "    print('question')\n",
    "else:\n",
    "    print('random')\n",
    "    "
   ]
  },
  {
   "cell_type": "markdown",
   "metadata": {},
   "source": [
    "11) В задании 10) добавить проверку на длину входной строки.\n",
    "\n",
    "Если длина строки больше 15 символов, выполнять инструкцию из задания 10). В противном случае выводить исходную строку **три раза** подряд через дефис без изменений, если количество символов **нечетное**, иначе - **четыре раза**."
   ]
  },
  {
   "cell_type": "code",
   "execution_count": 56,
   "metadata": {
    "collapsed": false
   },
   "outputs": [
    {
     "name": "stdout",
     "output_type": "stream",
     "text": [
      "ss\n",
      "ss-ss-ss-ss\n"
     ]
    }
   ],
   "source": [
    "a=input()\n",
    "b=len(a)\n",
    "if b>15:\n",
    "    if (\"!!!\" in a) and (\"???\"in a):\n",
    "        print()\n",
    "    elif a.startswith(\"!!!\"):\n",
    "        print(a.replace(\"!!!\",\"Nota bene:\"))\n",
    "    elif \"!!!\" in a:\n",
    "        print('exclaim')\n",
    "    elif \"???\" in a:\n",
    "        print('question')\n",
    "    else:\n",
    "        print('random')\n",
    "else:\n",
    "    if b%2==0:\n",
    "        print(a,a,a,a,sep='-')\n",
    "    else:\n",
    "        print(a,a,a,sep='-')\n",
    "        "
   ]
  },
  {
   "cell_type": "markdown",
   "metadata": {},
   "source": [
    "12) Протестировать тернарный оператор\n",
    "\n",
    "``x = a if condition else b``\n",
    "\n",
    "на примере.\n",
    "\n",
    "В переменную ``friend`` записать ``x``, если в ``x`` встречается слово ``\"banana\"``, в ином случае записать в нее ``y``.\n",
    "\n",
    "Пример:"
   ]
  },
  {
   "cell_type": "code",
   "execution_count": 27,
   "metadata": {
    "collapsed": false
   },
   "outputs": [
    {
     "data": {
      "text/plain": [
       "'banana monkey'"
      ]
     },
     "execution_count": 27,
     "metadata": {},
     "output_type": "execute_result"
    }
   ],
   "source": [
    "x = \"banana monkey\"\n",
    "y = \"orangutan\"\n",
    "friend = x if 'banana' else y\n",
    "friend"
   ]
  }
 ],
 "metadata": {
  "anaconda-cloud": {},
  "kernelspec": {
   "display_name": "Python 3",
   "language": "python",
   "name": "python3"
  },
  "language_info": {
   "codemirror_mode": {
    "name": "ipython",
    "version": 3
   },
   "file_extension": ".py",
   "mimetype": "text/x-python",
   "name": "python",
   "nbconvert_exporter": "python",
   "pygments_lexer": "ipython3",
   "version": "3.5.1"
  }
 },
 "nbformat": 4,
 "nbformat_minor": 2
}

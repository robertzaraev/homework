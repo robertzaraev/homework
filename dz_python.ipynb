{
 "cells": [
  {
   "cell_type": "markdown",
   "metadata": {},
   "source": [
    "## Задания по семинару 2"
   ]
  },
  {
   "cell_type": "markdown",
   "metadata": {},
   "source": [
    "В ячеке под заданием приведите его решение. Для заданий, рассмотренных на семинаре, можете использовать решение полученное на занятии."
   ]
  },
  {
   "cell_type": "markdown",
   "metadata": {},
   "source": [
    "-----"
   ]
  },
  {
   "cell_type": "markdown",
   "metadata": {},
   "source": [
    "0) Получить переменную, содержащую строку со значением равным двум в одиннадцатой степени и вывести ее на экран."
   ]
  },
  {
   "cell_type": "markdown",
   "metadata": {},
   "source": [
    "1) Наибольшим количеством способов создать строковую переменную, содержащую текст:"
   ]
  },
  {
   "cell_type": "raw",
   "metadata": {},
   "source": [
    "It's \"quoted string\""
   ]
  },
  {
   "cell_type": "code",
   "execution_count": 1,
   "metadata": {},
   "outputs": [
    {
     "name": "stdout",
     "output_type": "stream",
     "text": [
      "It's \"quoted string\"\n"
     ]
    },
    {
     "data": {
      "text/plain": [
       "'It\\'s \"quoted string\"'"
      ]
     },
     "execution_count": 1,
     "metadata": {},
     "output_type": "execute_result"
    }
   ],
   "source": [
    "a=input()\n",
    "a"
   ]
  },
  {
   "cell_type": "markdown",
   "metadata": {},
   "source": [
    "2) Наибольшим количеством способов создать строковую переменную, содержащую текст:"
   ]
  },
  {
   "cell_type": "raw",
   "metadata": {},
   "source": [
    "line1\n",
    "\n",
    "line2\n",
    "\n",
    "line3"
   ]
  },
  {
   "cell_type": "code",
   "execution_count": 7,
   "metadata": {},
   "outputs": [
    {
     "name": "stdout",
     "output_type": "stream",
     "text": [
      "3\n",
      "line 1\n",
      "line 2\n",
      "line 3\n"
     ]
    }
   ],
   "source": [
    "a=int(input())\n",
    "for i in range(1,a+1):\n",
    "    print('line', i)"
   ]
  },
  {
   "cell_type": "markdown",
   "metadata": {},
   "source": [
    "3) Наибольшим количеством способов создать строковую переменную, содержащую текст:"
   ]
  },
  {
   "cell_type": "raw",
   "metadata": {},
   "source": [
    "\\\\\\\\\n",
    "\n",
    "\\\\\\\n",
    "\n",
    "\\\\\n",
    "\n",
    "\\"
   ]
  },
  {
   "cell_type": "code",
   "execution_count": 23,
   "metadata": {},
   "outputs": [
    {
     "name": "stdout",
     "output_type": "stream",
     "text": [
      "7\n",
      " \\  \\  \\  \\  \\  \\  \\ \n",
      " \\  \\  \\  \\  \\  \\ \n",
      " \\  \\  \\  \\  \\ \n",
      " \\  \\  \\  \\ \n",
      " \\  \\  \\ \n",
      " \\  \\ \n",
      " \\ \n"
     ]
    }
   ],
   "source": [
    "a=int(input())\n",
    "for i in range(a,0,-1):\n",
    "    print(' \\ ' * i)"
   ]
  },
  {
   "cell_type": "code",
   "execution_count": null,
   "metadata": {},
   "outputs": [],
   "source": []
  },
  {
   "cell_type": "markdown",
   "metadata": {},
   "source": [
    "4) Вывести 5й с начала и 5й с конца символ из строки 'Hello world'"
   ]
  },
  {
   "cell_type": "code",
   "execution_count": 4,
   "metadata": {},
   "outputs": [
    {
     "data": {
      "text/plain": [
       "'ow'"
      ]
     },
     "execution_count": 4,
     "metadata": {},
     "output_type": "execute_result"
    }
   ],
   "source": [
    "a='Hello world'\n",
    "a[4] + a[-5]"
   ]
  },
  {
   "cell_type": "code",
   "execution_count": null,
   "metadata": {},
   "outputs": [],
   "source": []
  },
  {
   "cell_type": "markdown",
   "metadata": {},
   "source": [
    "5) Двумя способами получить символ 'w' из строки 'Hello world'"
   ]
  },
  {
   "cell_type": "code",
   "execution_count": 5,
   "metadata": {},
   "outputs": [
    {
     "name": "stdout",
     "output_type": "stream",
     "text": [
      "w\n"
     ]
    }
   ],
   "source": [
    "a='Hello world'\n",
    "for i in a:\n",
    "    if i==\"w\":\n",
    "        print(i)"
   ]
  },
  {
   "cell_type": "code",
   "execution_count": 6,
   "metadata": {},
   "outputs": [
    {
     "data": {
      "text/plain": [
       "'w'"
      ]
     },
     "execution_count": 6,
     "metadata": {},
     "output_type": "execute_result"
    }
   ],
   "source": [
    "a='Hello world'\n",
    "a[-5]"
   ]
  },
  {
   "cell_type": "code",
   "execution_count": null,
   "metadata": {},
   "outputs": [],
   "source": []
  },
  {
   "cell_type": "markdown",
   "metadata": {},
   "source": [
    "6) Вывести символ, находящийся в середине заранее неизвестной строки, полученной с помощью функции input().\n",
    "\n",
    "Пример использования функции input:"
   ]
  },
  {
   "cell_type": "code",
   "execution_count": 16,
   "metadata": {},
   "outputs": [
    {
     "name": "stdout",
     "output_type": "stream",
     "text": [
      "Helloworld\n",
      "ow\n"
     ]
    }
   ],
   "source": [
    "# поместить строку, введенную пользователем, в переменную st\n",
    "st = input()\n",
    "b=len(st)\n",
    "if b%2 == 0:\n",
    "    print(st[b//2-1:b//2+1])\n",
    "else:\n",
    "    print(st[b//2])"
   ]
  },
  {
   "cell_type": "markdown",
   "metadata": {},
   "source": [
    "7) Для строки 'Light ray' двумя способами получить подстроку с 1го по 4й символы включительно."
   ]
  },
  {
   "cell_type": "code",
   "execution_count": 25,
   "metadata": {},
   "outputs": [
    {
     "data": {
      "text/plain": [
       "'Ligh'"
      ]
     },
     "execution_count": 25,
     "metadata": {},
     "output_type": "execute_result"
    }
   ],
   "source": [
    "a='Light ray'\n",
    "a[0:4]\n",
    "a[-9:-5]\n"
   ]
  },
  {
   "cell_type": "code",
   "execution_count": null,
   "metadata": {},
   "outputs": [],
   "source": []
  },
  {
   "cell_type": "markdown",
   "metadata": {},
   "source": [
    "8) Для строки 'My new text' двумя способами получить подстроку с 3го по 7й символы включительно."
   ]
  },
  {
   "cell_type": "code",
   "execution_count": 31,
   "metadata": {},
   "outputs": [
    {
     "data": {
      "text/plain": [
       "'new '"
      ]
     },
     "execution_count": 31,
     "metadata": {},
     "output_type": "execute_result"
    }
   ],
   "source": [
    "a='My new text'\n",
    "a[3:7]\n",
    "a[-8:-4]"
   ]
  },
  {
   "cell_type": "markdown",
   "metadata": {},
   "source": [
    "9) Получить подстроку из последних 4х символов строки 'Light ray'."
   ]
  },
  {
   "cell_type": "code",
   "execution_count": 32,
   "metadata": {},
   "outputs": [
    {
     "data": {
      "text/plain": [
       "' ray'"
      ]
     },
     "execution_count": 32,
     "metadata": {},
     "output_type": "execute_result"
    }
   ],
   "source": [
    "a='Light ray'\n",
    "a[-4:]"
   ]
  },
  {
   "cell_type": "markdown",
   "metadata": {},
   "source": [
    "10) Составить строку из всех четных символов строки 'Light ray'."
   ]
  },
  {
   "cell_type": "code",
   "execution_count": 34,
   "metadata": {},
   "outputs": [
    {
     "data": {
      "text/plain": [
       "'ih a'"
      ]
     },
     "execution_count": 34,
     "metadata": {},
     "output_type": "execute_result"
    }
   ],
   "source": [
    "a='Light ray'\n",
    "a[1::2]"
   ]
  },
  {
   "cell_type": "markdown",
   "metadata": {},
   "source": [
    "11) Составить строку из всех нечетных символов строки 'Light ray'."
   ]
  },
  {
   "cell_type": "code",
   "execution_count": 35,
   "metadata": {},
   "outputs": [
    {
     "data": {
      "text/plain": [
       "'Lgtry'"
      ]
     },
     "execution_count": 35,
     "metadata": {},
     "output_type": "execute_result"
    }
   ],
   "source": [
    "a='Light ray'\n",
    "a[::2]"
   ]
  },
  {
   "cell_type": "markdown",
   "metadata": {},
   "source": [
    "12) Инвертировать (получить строку с обратной последовательностью символо) строку  'Light ray'."
   ]
  },
  {
   "cell_type": "code",
   "execution_count": 36,
   "metadata": {},
   "outputs": [
    {
     "data": {
      "text/plain": [
       "'yar thgiL'"
      ]
     },
     "execution_count": 36,
     "metadata": {},
     "output_type": "execute_result"
    }
   ],
   "source": [
    "a='Light ray'\n",
    "a[::-1]"
   ]
  },
  {
   "cell_type": "markdown",
   "metadata": {},
   "source": [
    "13) Вывести c третьего с начала до предпоследнего символа заранее низвестной строки, полученной с помощью функции input()."
   ]
  },
  {
   "cell_type": "code",
   "execution_count": 37,
   "metadata": {},
   "outputs": [
    {
     "name": "stdout",
     "output_type": "stream",
     "text": [
      "a='Light ray'\n"
     ]
    },
    {
     "data": {
      "text/plain": [
       "\"Light ray'\""
      ]
     },
     "execution_count": 37,
     "metadata": {},
     "output_type": "execute_result"
    }
   ],
   "source": [
    "a=input()\n",
    "a[3:]"
   ]
  },
  {
   "cell_type": "markdown",
   "metadata": {},
   "source": [
    "14) Получить подстроку неизвестной заранее строки, содержащую половину символов строки и расположенную по середине строки."
   ]
  },
  {
   "cell_type": "code",
   "execution_count": null,
   "metadata": {},
   "outputs": [],
   "source": [
    "a=input()\n",
    "b=len(a)\n",
    "a[b//4:b//4+b//2]"
   ]
  },
  {
   "cell_type": "markdown",
   "metadata": {},
   "source": [
    "15) Проверить, содержит ли произвольная строка, прочитанная в обратную сторону последовательность 'eno' "
   ]
  },
  {
   "cell_type": "code",
   "execution_count": 30,
   "metadata": {},
   "outputs": [
    {
     "name": "stdout",
     "output_type": "stream",
     "text": [
      "naideno\n"
     ]
    }
   ],
   "source": [
    "a='adsadaoneasfaf'\n",
    "a.find(\"one\")\n",
    "if a==-1:\n",
    "    print('Ne naideno')\n",
    "else:\n",
    "    print(\"naideno\")"
   ]
  },
  {
   "cell_type": "code",
   "execution_count": null,
   "metadata": {},
   "outputs": [],
   "source": []
  },
  {
   "cell_type": "markdown",
   "metadata": {},
   "source": [
    "16) Получить строку, начинающуюся с последних 3 символов стркои 'Light ray', а заканчивающуюся подстрокой с 1го до 4го  символа строки."
   ]
  },
  {
   "cell_type": "code",
   "execution_count": 10,
   "metadata": {},
   "outputs": [
    {
     "data": {
      "text/plain": [
       "'rayLigh'"
      ]
     },
     "execution_count": 10,
     "metadata": {},
     "output_type": "execute_result"
    }
   ],
   "source": [
    "a=\"Light ray\"\n",
    "a[6:9]+a[0:4]"
   ]
  },
  {
   "cell_type": "code",
   "execution_count": null,
   "metadata": {},
   "outputs": [],
   "source": []
  },
  {
   "cell_type": "markdown",
   "metadata": {},
   "source": [
    "17) Коротко записать создание строки 'oneoneoneoneoneonetwotwotwo'"
   ]
  },
  {
   "cell_type": "code",
   "execution_count": 11,
   "metadata": {},
   "outputs": [
    {
     "data": {
      "text/plain": [
       "'oneoneoneoneoneonetwotwotwo'"
      ]
     },
     "execution_count": 11,
     "metadata": {},
     "output_type": "execute_result"
    }
   ],
   "source": [
    "a=\"one\"\n",
    "b=\"two\"\n",
    "a*6 + b*3"
   ]
  },
  {
   "cell_type": "markdown",
   "metadata": {},
   "source": [
    "18) Разбить строку на список из строк, состоящих только из названий чисел."
   ]
  },
  {
   "cell_type": "code",
   "execution_count": 21,
   "metadata": {},
   "outputs": [
    {
     "data": {
      "text/plain": [
       "'  one; two; three; four; five; six; seven; eight; nine; ten   '"
      ]
     },
     "execution_count": 21,
     "metadata": {},
     "output_type": "execute_result"
    }
   ],
   "source": [
    "st = '  one,two,three,four,five,six,seven,eight,nine,ten   '\n",
    "st1=st.split(\",\")\n",
    "st12= '; '.join(st1)\n",
    "st12"
   ]
  },
  {
   "cell_type": "markdown",
   "metadata": {},
   "source": [
    "19) Вставить между всеми символами строки 'Hello world' стрелочку '->' и сохранить результат в строковой переменной.\n",
    "\n",
    "Ожидаемый результат:"
   ]
  },
  {
   "cell_type": "code",
   "execution_count": 27,
   "metadata": {},
   "outputs": [
    {
     "data": {
      "text/plain": [
       "'H->e->l->l->o-> ->w->o->r->l->d'"
      ]
     },
     "execution_count": 27,
     "metadata": {},
     "output_type": "execute_result"
    }
   ],
   "source": [
    "a='Hello world'\n",
    "b=[]\n",
    "for i in a:\n",
    "    b.append(i)\n",
    "c='->'.join(b)\n",
    "c\n"
   ]
  },
  {
   "cell_type": "raw",
   "metadata": {},
   "source": [
    "H->e->l->l->o-> ->w->o->r->l->d"
   ]
  },
  {
   "cell_type": "markdown",
   "metadata": {},
   "source": [
    "20) Для двух произвольных строк провести сравнение на совпадение содержимого без учета регистра букв и начальных и конечных пробельных символов.\n",
    "\n",
    "Например, для двух строк"
   ]
  },
  {
   "cell_type": "code",
   "execution_count": 3,
   "metadata": {
    "collapsed": true
   },
   "outputs": [],
   "source": [
    "st1 = '  HeLLO WOrlD'"
   ]
  },
  {
   "cell_type": "code",
   "execution_count": 4,
   "metadata": {
    "collapsed": true
   },
   "outputs": [],
   "source": [
    "st2 = 'hello WORLD  '"
   ]
  },
  {
   "cell_type": "markdown",
   "metadata": {},
   "source": [
    "такое сравнение должно возвращать True (содержание строк совпадает)."
   ]
  },
  {
   "cell_type": "markdown",
   "metadata": {},
   "source": [
    "21) В строке 'hello hello Hello hello' найти индекс второго вхождения подстроки 'hel' "
   ]
  },
  {
   "cell_type": "code",
   "execution_count": 28,
   "metadata": {},
   "outputs": [
    {
     "data": {
      "text/plain": [
       "6"
      ]
     },
     "execution_count": 28,
     "metadata": {},
     "output_type": "execute_result"
    }
   ],
   "source": [
    "a='hello hello Hello hello'\n",
    "a.find('hel', 2)"
   ]
  },
  {
   "cell_type": "markdown",
   "metadata": {},
   "source": [
    "22) В строке 'hello hello Hello hello' найти индекс второго С КОНЦА вхождения подстроки 'hel'"
   ]
  },
  {
   "cell_type": "code",
   "execution_count": 29,
   "metadata": {},
   "outputs": [
    {
     "data": {
      "text/plain": [
       "18"
      ]
     },
     "execution_count": 29,
     "metadata": {},
     "output_type": "execute_result"
    }
   ],
   "source": [
    "a='hello hello Hello hello'\n",
    "a.rfind('hel')"
   ]
  },
  {
   "cell_type": "markdown",
   "metadata": {},
   "source": [
    "23) Из заранее неизвестной строки вырезать подстроку, начинающуюся с 'he' и заканчивающееся 'on'. Протестировать на строке"
   ]
  },
  {
   "cell_type": "raw",
   "metadata": {},
   "source": [
    "    start hello python world"
   ]
  },
  {
   "cell_type": "code",
   "execution_count": 32,
   "metadata": {},
   "outputs": [
    {
     "data": {
      "text/plain": [
       "'heon'"
      ]
     },
     "execution_count": 32,
     "metadata": {},
     "output_type": "execute_result"
    }
   ],
   "source": [
    "a='start hello python world'\n",
    "a[a.find('he' ):a.find('he' )+2] + a[a.find('on' ):a.find('on' )+2]"
   ]
  },
  {
   "cell_type": "markdown",
   "metadata": {},
   "source": [
    "24) Используя цикл for и функцию enumerate() (см. лекцию 2) вывести произвольную строку на экран и при этом убрать все пробелы и на их месте вывести номер слова по счету\n",
    "\n",
    "Пример.\n",
    "\n",
    "Исходная строка:"
   ]
  },
  {
   "cell_type": "raw",
   "metadata": {},
   "source": [
    "hello hello Hello hello"
   ]
  },
  {
   "cell_type": "code",
   "execution_count": 66,
   "metadata": {},
   "outputs": [
    {
     "name": "stdout",
     "output_type": "stream",
     "text": [
      "hello hello Hello hello\n",
      "hello1hello2Hello3hello4\n"
     ]
    }
   ],
   "source": [
    "stroka = input() \n",
    "k = 1 \n",
    "for ind, symb in enumerate(stroka): \n",
    "    if(symb == \" \"): \n",
    "        print(k, end = \"\") \n",
    "        k += 1 \n",
    "    elif(ind == len(stroka) - 1): \n",
    "        print(symb + str(k)) \n",
    "    else: \n",
    "        print(symb, end = \"\")\n",
    "    "
   ]
  },
  {
   "cell_type": "code",
   "execution_count": 42,
   "metadata": {},
   "outputs": [
    {
     "ename": "TypeError",
     "evalue": "sep must be None or a string, not enumerate",
     "output_type": "error",
     "traceback": [
      "\u001b[1;31m---------------------------------------------------------------------------\u001b[0m",
      "\u001b[1;31mTypeError\u001b[0m                                 Traceback (most recent call last)",
      "\u001b[1;32m<ipython-input-42-78383d133741>\u001b[0m in \u001b[0;36m<module>\u001b[1;34m()\u001b[0m\n\u001b[0;32m      1\u001b[0m \u001b[0ma\u001b[0m\u001b[1;33m=\u001b[0m\u001b[1;34m'hello hello Hello hello'\u001b[0m\u001b[1;33m\u001b[0m\u001b[0m\n\u001b[1;32m----> 2\u001b[1;33m \u001b[0mprint\u001b[0m\u001b[1;33m(\u001b[0m\u001b[0ma\u001b[0m\u001b[1;33m,\u001b[0m\u001b[0msep\u001b[0m\u001b[1;33m=\u001b[0m\u001b[0menumerate\u001b[0m\u001b[1;33m(\u001b[0m\u001b[0ma\u001b[0m\u001b[1;33m)\u001b[0m\u001b[1;33m)\u001b[0m\u001b[1;33m\u001b[0m\u001b[0m\n\u001b[0m",
      "\u001b[1;31mTypeError\u001b[0m: sep must be None or a string, not enumerate"
     ]
    }
   ],
   "source": [
    "a='hello hello Hello hello'\n",
    "print(a,sep=enumerate(a))"
   ]
  },
  {
   "cell_type": "markdown",
   "metadata": {},
   "source": [
    "выведено на экран:"
   ]
  },
  {
   "cell_type": "raw",
   "metadata": {},
   "source": [
    "hello1hello2Hello3hello4"
   ]
  },
  {
   "cell_type": "markdown",
   "metadata": {},
   "source": [
    "25) Сформировать строку форматирования, которая для вызова"
   ]
  },
  {
   "cell_type": "raw",
   "metadata": {},
   "source": [
    "format('val1', 'val2', 'val3')"
   ]
  },
  {
   "cell_type": "code",
   "execution_count": 64,
   "metadata": {},
   "outputs": [
    {
     "data": {
      "text/plain": [
       "'val3-val2-val1-val2-val3'"
      ]
     },
     "execution_count": 64,
     "metadata": {},
     "output_type": "execute_result"
    }
   ],
   "source": [
    "\"{2}-{1}-{0}-{1}-{2}\".format('val1', 'val2', 'val3')"
   ]
  },
  {
   "cell_type": "markdown",
   "metadata": {},
   "source": [
    "будет возрващать следующий результат:"
   ]
  },
  {
   "cell_type": "raw",
   "metadata": {},
   "source": [
    "val3-val2-val1-val2-val3"
   ]
  },
  {
   "cell_type": "markdown",
   "metadata": {},
   "source": [
    "26) Сформировать строку форматирования fs, которая при использовании в нижеследующем коде приводит к формированию таблицы, выведенной в следующей ячейке."
   ]
  },
  {
   "cell_type": "code",
   "execution_count": 8,
   "metadata": {},
   "outputs": [
    {
     "name": "stdout",
     "output_type": "stream",
     "text": [
      "0123456789012345678901234567890123456789\n",
      "\n",
      "\n",
      "\n",
      "\n"
     ]
    }
   ],
   "source": [
    "print('0123456789' * 4)\n",
    "fs = '' # задайте тут свою строку форматирования\n",
    "print(fs.format(453, 59.058, 1, line=1))\n",
    "print(fs.format(123453, 159.0, 7, line=5))\n",
    "print(fs.format(-12, -159.099, 16, line=15))\n",
    "print(fs.format(1200, -1059.099, 255, line=105))"
   ]
  },
  {
   "cell_type": "code",
   "execution_count": 6,
   "metadata": {
    "scrolled": true
   },
   "outputs": [
    {
     "name": "stdout",
     "output_type": "stream",
     "text": [
      "\n",
      "0123456789012345678901234567890123456789\n",
      "|   1 | ###59.06|      453 | 00000001 |\n",
      "|   5 | ##159.00|  123,453 | 00000111 |\n",
      "|  15 | #-159.10| -     12 | 00010000 |\n",
      "| 105 | -1059.10|    1,200 | 11111111 |\n",
      "\n"
     ]
    }
   ],
   "source": [
    "print(\"\"\"\n",
    "0123456789012345678901234567890123456789\n",
    "|   1 | ###59.06|      453 | 00000001 |\n",
    "|   5 | ##159.00|  123,453 | 00000111 |\n",
    "|  15 | #-159.10| -     12 | 00010000 |\n",
    "| 105 | -1059.10|    1,200 | 11111111 |\n",
    "\"\"\")"
   ]
  },
  {
   "cell_type": "code",
   "execution_count": null,
   "metadata": {
    "collapsed": true
   },
   "outputs": [],
   "source": []
  }
 ],
 "metadata": {
  "anaconda-cloud": {},
  "kernelspec": {
   "display_name": "Python 3",
   "language": "python",
   "name": "python3"
  },
  "language_info": {
   "codemirror_mode": {
    "name": "ipython",
    "version": 3
   },
   "file_extension": ".py",
   "mimetype": "text/x-python",
   "name": "python",
   "nbconvert_exporter": "python",
   "pygments_lexer": "ipython3",
   "version": "3.7.0"
  }
 },
 "nbformat": 4,
 "nbformat_minor": 1
}

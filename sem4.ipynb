{
 "cells": [
  {
   "cell_type": "markdown",
   "metadata": {},
   "source": [
    "# Задания по семинару 4\n",
    "\n",
    "# Циклы"
   ]
  },
  {
   "cell_type": "markdown",
   "metadata": {},
   "source": [
    "1) Найти сумму всех четных чисел от ``0`` до ``10``.\\\n",
    "\n"
   ]
  },
  {
   "cell_type": "code",
   "execution_count": 3,
   "metadata": {},
   "outputs": [
    {
     "data": {
      "text/plain": [
       "30"
      ]
     },
     "execution_count": 3,
     "metadata": {},
     "output_type": "execute_result"
    }
   ],
   "source": [
    "s=0\n",
    "for i in range(11):\n",
    "    if i%2==0:\n",
    "        s+=i\n",
    "s\n",
    "\n"
   ]
  },
  {
   "cell_type": "markdown",
   "metadata": {},
   "source": [
    "\n",
    "2) С помощью цикла ``for`` сравнить две произвольные строки и вывести строку, состоящую из общих символов исходных строк.\n",
    "\n",
    "Например, для строк"
   ]
  },
  {
   "cell_type": "raw",
   "metadata": {},
   "source": [
    "st1 = 'hello world'\n",
    "st2 = 'second string'\n",
    "for i in st1:\n"
   ]
  },
  {
   "cell_type": "code",
   "execution_count": 10,
   "metadata": {},
   "outputs": [
    {
     "name": "stdout",
     "output_type": "stream",
     "text": [
      "eo ord"
     ]
    }
   ],
   "source": [
    "st1 = 'hello world'\n",
    "st2 = 'second string'\n",
    "с=0\n",
    "for i in st1:\n",
    "    for j in st2:\n",
    "        if j==i:\n",
    "            print(i,end=\"\")\n",
    "            "
   ]
  },
  {
   "cell_type": "markdown",
   "metadata": {},
   "source": [
    "ответом служит строка ``\"eo dsderic ord\"``."
   ]
  },
  {
   "cell_type": "code",
   "execution_count": null,
   "metadata": {},
   "outputs": [],
   "source": []
  },
  {
   "cell_type": "markdown",
   "metadata": {},
   "source": [
    "3) С помощью цикла ``while`` рассчитать **двойной факториал** для произвольного числа, введенного пользователем.\n",
    "\n",
    "Двойной факториал ``n!!`` числа ``n `` рассчитывается как произведение всех чисел, меньших исходного на числа, кратные двум (вплоть до 1 или 2). Например: ``7!! = 7 * 5 * 3 * 1 = 105``\n"
   ]
  },
  {
   "cell_type": "code",
   "execution_count": 22,
   "metadata": {},
   "outputs": [
    {
     "name": "stdout",
     "output_type": "stream",
     "text": [
      "7\n"
     ]
    },
    {
     "data": {
      "text/plain": [
       "105"
      ]
     },
     "execution_count": 22,
     "metadata": {},
     "output_type": "execute_result"
    }
   ],
   "source": [
    "n=int(input())\n",
    "c=1\n",
    "for i in range(1,n+1,2):\n",
    "    c=c*i\n",
    "c\n",
    " \n"
   ]
  },
  {
   "cell_type": "markdown",
   "metadata": {},
   "source": [
    "4) Решить задачу 3) с помощью цикла ``for``."
   ]
  },
  {
   "cell_type": "code",
   "execution_count": 2,
   "metadata": {},
   "outputs": [
    {
     "name": "stdout",
     "output_type": "stream",
     "text": [
      "7\n"
     ]
    },
    {
     "data": {
      "text/plain": [
       "105"
      ]
     },
     "execution_count": 2,
     "metadata": {},
     "output_type": "execute_result"
    }
   ],
   "source": [
    "n=int(input())\n",
    "c=1\n",
    "for i in range(1,n+1,2):\n",
    "    c=c*i\n",
    "c\n",
    " \n"
   ]
  },
  {
   "cell_type": "markdown",
   "metadata": {},
   "source": [
    "5) Вывести все простые числа в произвольном интервале ``[a, b]``, используя вложенные ``for`` и конструкцию ``for-else``."
   ]
  },
  {
   "cell_type": "markdown",
   "metadata": {},
   "source": [
    "Алгоритм:\n",
    "\n",
    "Дан интервал ``[a, b]``.\n",
    "\n",
    "1. Обходим все числа от ``a`` до ``b`` (``i``).\n",
    "2. Обходим все числа, начиная с двух и заканчивая текущим проверяемым числом ``i`` (не включая) (``j``).\n",
    "3. Проверяем, делиться ли проверяемое число ``i`` на ``j`` без остатка.\n",
    "4. Если делиться, то проверяемое число **не простое**.\n",
    "5. Если не делиться (остаток больше нуля), то надо проверить следующее ``j``.\n",
    "6. Если все ``j`` проверены и для всех при делении остаток был больше нуля, то число ``i`` **простое**."
   ]
  },
  {
   "cell_type": "markdown",
   "metadata": {},
   "source": [
    "6) Реализовать проверку вводимого пользователем значения: предлагать ввод до тех пор, пока не будет введена непустая строка. \n",
    "\n",
    "Если введено ``STOP``, выводить сообщение \"Program interrupted by user\".\n",
    "\n",
    "Если введенная строка в лексиграфическом порядке стоит перед строчными латинскими символами, выводить предупреждение \"Too early in the dictionary. Try again!\" и предлагать ввод снова.\n",
    "\n",
    "Иначе выводить отформатированную исходную строку с заполнителем \"\\_\" и шириной 30 символов с выравниванием посередине."
   ]
  },
  {
   "cell_type": "markdown",
   "metadata": {},
   "source": [
    "7) Для произвольной строки вывести те символы, номера которых в строке (не индексы!) делят длину строки без остатка.\n",
    "\n",
    "Например, для строки ``\"Hello world!\"`` должно выводиться ``\"Hell !\"``."
   ]
  },
  {
   "cell_type": "markdown",
   "metadata": {},
   "source": [
    "8) Даны две произвольные строки. Для всех символов первой строки, которые встречаются во второй строке (без учета регистра), вывести строку"
   ]
  },
  {
   "cell_type": "raw",
   "metadata": {},
   "source": [
    "\"<номер_символа_в_первой_строке> встречается в строке поиска: <второе_слово>\""
   ]
  },
  {
   "cell_type": "markdown",
   "metadata": {},
   "source": [
    ", причем ``<второе_слово>`` выводить в нижнем регистре с найденным символом в верхнем регистре.\n",
    "\n",
    "Например, для следующих строк"
   ]
  },
  {
   "cell_type": "raw",
   "metadata": {},
   "source": [
    "string1 = \"Hello world!\"\n",
    "string2 = 'HERD'"
   ]
  },
  {
   "cell_type": "code",
   "execution_count": 11,
   "metadata": {},
   "outputs": [
    {
     "name": "stdout",
     "output_type": "stream",
     "text": [
      "1 SVVSP: herd\n",
      "2 SVVSP: herd\n",
      "9 SVVSP: herd\n",
      "11 SVVSP: herd\n"
     ]
    }
   ],
   "source": [
    "string1 = \"Hello world!\"\n",
    "string2 = 'HERD'\n",
    "str3=[]\n",
    "for q in string2:\n",
    "    q=q.lower()\n",
    "    str3.append(q)\n",
    "for s,i in enumerate(string1):\n",
    "    c=i.upper()\n",
    "    for j in string2:\n",
    "        if c == j:\n",
    "            string2=string2.lower()\n",
    "            for t in str3:\n",
    "                if t == c.lower():\n",
    "                    t=t.upper()\n",
    "            print(s+1,\"SVVSP:\",\"\".join(str3) )\n",
    "            string2=string2.upper()\n"
   ]
  },
  {
   "cell_type": "code",
   "execution_count": 9,
   "metadata": {},
   "outputs": [],
   "source": []
  },
  {
   "cell_type": "markdown",
   "metadata": {},
   "source": [
    "результат должен быть следующим:"
   ]
  },
  {
   "cell_type": "raw",
   "metadata": {},
   "source": [
    "1 символ встречается в строке поиска: Herd\n",
    "2 символ встречается в строке поиска: hErd\n",
    "9 символ встречается в строке поиска: heRd\n",
    "11 символ встречается в строке поиска: herD"
   ]
  },
  {
   "cell_type": "markdown",
   "metadata": {},
   "source": [
    "9) С помощью функции ``enumerate()`` вместо каждого символа произвольной строки выводить индекс первого вхождения этого символа в другую строку. Если в другой строке таких символов нет, оставлять исходный символ.\n",
    "\n",
    "Например, вместо исходной строки ``\"Hello world!\"`` при значении второй строки ``\"low\"`` должно выводиться ``\"He001 21r0d!\"``."
   ]
  },
  {
   "cell_type": "code",
   "execution_count": 18,
   "metadata": {},
   "outputs": [
    {
     "name": "stdout",
     "output_type": "stream",
     "text": [
      "Hello world!\n"
     ]
    },
    {
     "ename": "TypeError",
     "evalue": "'str' object is not callable",
     "output_type": "error",
     "traceback": [
      "\u001b[1;31m---------------------------------------------------------------------------\u001b[0m",
      "\u001b[1;31mTypeError\u001b[0m                                 Traceback (most recent call last)",
      "\u001b[1;32m<ipython-input-18-da28880e48c3>\u001b[0m in \u001b[0;36m<module>\u001b[1;34m()\u001b[0m\n\u001b[0;32m      2\u001b[0m \u001b[0mk\u001b[0m \u001b[1;33m=\u001b[0m \u001b[1;36m0\u001b[0m\u001b[1;33m\u001b[0m\u001b[0m\n\u001b[0;32m      3\u001b[0m \u001b[1;32mfor\u001b[0m \u001b[0mind\u001b[0m\u001b[1;33m,\u001b[0m \u001b[0msymb\u001b[0m \u001b[1;32min\u001b[0m \u001b[0menumerate\u001b[0m\u001b[1;33m(\u001b[0m\u001b[0mstroka\u001b[0m\u001b[1;33m)\u001b[0m\u001b[1;33m:\u001b[0m\u001b[1;33m\u001b[0m\u001b[0m\n\u001b[1;32m----> 4\u001b[1;33m     \u001b[0mprint\u001b[0m\u001b[1;33m(\u001b[0m\u001b[0msymb\u001b[0m\u001b[1;33m(\u001b[0m\u001b[0mind\u001b[0m\u001b[1;33m)\u001b[0m\u001b[1;33m)\u001b[0m\u001b[1;33m\u001b[0m\u001b[0m\n\u001b[0m",
      "\u001b[1;31mTypeError\u001b[0m: 'str' object is not callable"
     ]
    }
   ],
   "source": []
  },
  {
   "cell_type": "code",
   "execution_count": null,
   "metadata": {},
   "outputs": [],
   "source": [
    "\n",
    "    "
   ]
  },
  {
   "cell_type": "markdown",
   "metadata": {
    "collapsed": true
   },
   "source": [
    "11) С помощью цикла ``for`` вывести на экран следующую конструкцию:"
   ]
  },
  {
   "cell_type": "raw",
   "metadata": {},
   "source": [
    "1-----99\n",
    "2-----98\n",
    "3-----97\n",
    "...\n",
    "...\n",
    "...\n",
    "98-----2\n",
    "99-----1"
   ]
  },
  {
   "cell_type": "code",
   "execution_count": 11,
   "metadata": {},
   "outputs": [
    {
     "name": "stdout",
     "output_type": "stream",
     "text": [
      "1 ----- 99\n",
      "2 ----- 98\n",
      "3 ----- 97\n",
      "4 ----- 96\n",
      "5 ----- 95\n",
      "6 ----- 94\n",
      "7 ----- 93\n",
      "8 ----- 92\n",
      "9 ----- 91\n",
      "10 ----- 90\n",
      "11 ----- 89\n",
      "12 ----- 88\n",
      "13 ----- 87\n",
      "14 ----- 86\n",
      "15 ----- 85\n",
      "16 ----- 84\n",
      "17 ----- 83\n",
      "18 ----- 82\n",
      "19 ----- 81\n",
      "20 ----- 80\n",
      "21 ----- 79\n",
      "22 ----- 78\n",
      "23 ----- 77\n",
      "24 ----- 76\n",
      "25 ----- 75\n",
      "26 ----- 74\n",
      "27 ----- 73\n",
      "28 ----- 72\n",
      "29 ----- 71\n",
      "30 ----- 70\n",
      "31 ----- 69\n",
      "32 ----- 68\n",
      "33 ----- 67\n",
      "34 ----- 66\n",
      "35 ----- 65\n",
      "36 ----- 64\n",
      "37 ----- 63\n",
      "38 ----- 62\n",
      "39 ----- 61\n",
      "40 ----- 60\n",
      "41 ----- 59\n",
      "42 ----- 58\n",
      "43 ----- 57\n",
      "44 ----- 56\n",
      "45 ----- 55\n",
      "46 ----- 54\n",
      "47 ----- 53\n",
      "48 ----- 52\n",
      "49 ----- 51\n",
      "50 ----- 50\n",
      "51 ----- 49\n",
      "52 ----- 48\n",
      "53 ----- 47\n",
      "54 ----- 46\n",
      "55 ----- 45\n",
      "56 ----- 44\n",
      "57 ----- 43\n",
      "58 ----- 42\n",
      "59 ----- 41\n",
      "60 ----- 40\n",
      "61 ----- 39\n",
      "62 ----- 38\n",
      "63 ----- 37\n",
      "64 ----- 36\n",
      "65 ----- 35\n",
      "66 ----- 34\n",
      "67 ----- 33\n",
      "68 ----- 32\n",
      "69 ----- 31\n",
      "70 ----- 30\n",
      "71 ----- 29\n",
      "72 ----- 28\n",
      "73 ----- 27\n",
      "74 ----- 26\n",
      "75 ----- 25\n",
      "76 ----- 24\n",
      "77 ----- 23\n",
      "78 ----- 22\n",
      "79 ----- 21\n",
      "80 ----- 20\n",
      "81 ----- 19\n",
      "82 ----- 18\n",
      "83 ----- 17\n",
      "84 ----- 16\n",
      "85 ----- 15\n",
      "86 ----- 14\n",
      "87 ----- 13\n",
      "88 ----- 12\n",
      "89 ----- 11\n",
      "90 ----- 10\n",
      "91 ----- 9\n",
      "92 ----- 8\n",
      "93 ----- 7\n",
      "94 ----- 6\n",
      "95 ----- 5\n",
      "96 ----- 4\n",
      "97 ----- 3\n",
      "98 ----- 2\n",
      "99 ----- 1\n"
     ]
    }
   ],
   "source": [
    "for i in range(1,100):\n",
    "    print(i ,\"-----\", (100-i))"
   ]
  },
  {
   "cell_type": "markdown",
   "metadata": {},
   "source": [
    "12) Напишите программу, которая выводит числа от 1 до 50 (включительно). Если число делится на 3, выведите ``\"Fizz\"`` вместо числа. Если оно делится на 5, выведите ``\"Buzz\"``. Если оно делится как на 3, так и 5, выведите ``\"FizzBuzz\"``."
   ]
  },
  {
   "cell_type": "code",
   "execution_count": 13,
   "metadata": {},
   "outputs": [
    {
     "name": "stdout",
     "output_type": "stream",
     "text": [
      "1\n",
      "2\n",
      "Fizz\n",
      "4\n",
      "Buzz\n",
      "Fizz\n",
      "7\n",
      "8\n",
      "Fizz\n",
      "Buzz\n",
      "11\n",
      "Fizz\n",
      "13\n",
      "14\n",
      "FizzBuzz\n",
      "16\n",
      "17\n",
      "Fizz\n",
      "19\n",
      "Buzz\n",
      "Fizz\n",
      "22\n",
      "23\n",
      "Fizz\n",
      "Buzz\n",
      "26\n",
      "Fizz\n",
      "28\n",
      "29\n",
      "FizzBuzz\n",
      "31\n",
      "32\n",
      "Fizz\n",
      "34\n",
      "Buzz\n",
      "Fizz\n",
      "37\n",
      "38\n",
      "Fizz\n",
      "Buzz\n",
      "41\n",
      "Fizz\n",
      "43\n",
      "44\n",
      "FizzBuzz\n",
      "46\n",
      "47\n",
      "Fizz\n",
      "49\n",
      "Buzz\n"
     ]
    }
   ],
   "source": [
    "for i in range(50): \n",
    "    if (i+1)%5==0 and (i+1)%3==0: \n",
    "        print('FizzBuzz') \n",
    "    elif (i+1)%3==0: \n",
    "        print('Fizz') \n",
    "    elif (i+1)%5==0: \n",
    "        print('Buzz') \n",
    "    else: \n",
    "        print(i+1)\n",
    "        "
   ]
  },
  {
   "cell_type": "markdown",
   "metadata": {},
   "source": [
    "13) Посчитайте, сколько цифр и букв (по отдельности) в введенной пользователем строке."
   ]
  },
  {
   "cell_type": "code",
   "execution_count": 7,
   "metadata": {},
   "outputs": [
    {
     "name": "stdout",
     "output_type": "stream",
     "text": [
      "12d1mwk1d1\n",
      "5 5\n"
     ]
    }
   ],
   "source": [
    "a=input()\n",
    "cifri=0\n",
    "bykvi=0\n",
    "for i in a:\n",
    "    if \"0\" <i<\"9\":\n",
    "        cifri+=1\n",
    "    else:\n",
    "        bykvi+=1\n",
    "print(cifri,bykvi)"
   ]
  },
  {
   "cell_type": "code",
   "execution_count": 4,
   "metadata": {},
   "outputs": [
    {
     "data": {
      "text/plain": [
       "97"
      ]
     },
     "execution_count": 4,
     "metadata": {},
     "output_type": "execute_result"
    }
   ],
   "source": []
  },
  {
   "cell_type": "code",
   "execution_count": null,
   "metadata": {},
   "outputs": [],
   "source": []
  },
  {
   "cell_type": "markdown",
   "metadata": {},
   "source": [
    "14) Проверьте надежность пароля, введенного пользователем. Запрашивать ввод до тех пор, пока пользователь не введет надежный пароль.\n",
    "\n",
    "Пароль считается надежным, если он содержит хотя бы\n",
    "\n",
    "- одну прописную букву ``[a-z]`` и одну заглавную букву ``[A-Z]``;\n",
    "- одну цифру ``[0-9]``;\n",
    "- один символ из ``[$#@]``.\n",
    "\n",
    "Также минимальная длина пароля должна составлять 6 символов, а максимальная - 16."
   ]
  },
  {
   "cell_type": "code",
   "execution_count": 13,
   "metadata": {},
   "outputs": [
    {
     "name": "stdout",
     "output_type": "stream",
     "text": [
      "sd1wd#$e\n",
      "надежный\n"
     ]
    }
   ],
   "source": [
    "a=input()\n",
    "b=[\"@\",\"#\",\"$\"]\n",
    "z=0\n",
    "if 5<len(a)<16:\n",
    "    for i in a:\n",
    "        if \"a\"<i<\"z\" or \"A\"<i<\"Z\" or \"0\"<=i<=\"9\" or i in b:\n",
    "            z+=1\n",
    "if z==len(a):\n",
    "    print(\"надежный\")\n",
    "else:\n",
    "    print('не надежный')"
   ]
  },
  {
   "cell_type": "code",
   "execution_count": null,
   "metadata": {},
   "outputs": [],
   "source": []
  },
  {
   "cell_type": "markdown",
   "metadata": {},
   "source": [
    "15) С помощью цикла (вложенные циклы использовать запрещено!) вывести на экран следующую конструкцию:"
   ]
  },
  {
   "cell_type": "raw",
   "metadata": {},
   "source": [
    "1\n",
    "22\n",
    "333\n",
    "4444\n",
    "55555\n",
    "666666\n",
    "7777777\n",
    "88888888\n",
    "999999999\n"
   ]
  },
  {
   "cell_type": "code",
   "execution_count": 14,
   "metadata": {},
   "outputs": [
    {
     "name": "stdout",
     "output_type": "stream",
     "text": [
      "\n",
      "1\n",
      "22\n",
      "333\n",
      "4444\n",
      "55555\n",
      "666666\n",
      "7777777\n",
      "88888888\n",
      "999999999\n"
     ]
    }
   ],
   "source": [
    "for i in range (10): \n",
    "    print(str(i)*i)"
   ]
  },
  {
   "cell_type": "code",
   "execution_count": null,
   "metadata": {},
   "outputs": [],
   "source": []
  }
 ],
 "metadata": {
  "kernelspec": {
   "display_name": "Python 3",
   "language": "python",
   "name": "python3"
  },
  "language_info": {
   "codemirror_mode": {
    "name": "ipython",
    "version": 3
   },
   "file_extension": ".py",
   "mimetype": "text/x-python",
   "name": "python",
   "nbconvert_exporter": "python",
   "pygments_lexer": "ipython3",
   "version": "3.7.0"
  }
 },
 "nbformat": 4,
 "nbformat_minor": 2
}
